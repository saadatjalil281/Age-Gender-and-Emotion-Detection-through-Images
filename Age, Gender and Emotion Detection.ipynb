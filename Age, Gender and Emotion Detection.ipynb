{
 "cells": [
  {
   "cell_type": "markdown",
   "metadata": {},
   "source": [
    "# Import Libraries "
   ]
  },
  {
   "cell_type": "code",
   "execution_count": null,
   "metadata": {},
   "outputs": [],
   "source": [
    "from deepface import DeepFace\n",
    "import cv2\n",
    "import matplotlib.pyplot as plt"
   ]
  },
  {
   "cell_type": "markdown",
   "metadata": {},
   "source": [
    "# On Image"
   ]
  },
  {
   "cell_type": "code",
   "execution_count": null,
   "metadata": {},
   "outputs": [],
   "source": [
    "img1 = cv2.imread(r\"E:\\Age, Gender and Emotion Detection\\Age-Gender-and-Emotion-Detection-through-Images\\567168_1.jpg\")\n",
    "plt.imshow(img1[:,:,::-1])"
   ]
  },
  {
   "cell_type": "code",
   "execution_count": null,
   "metadata": {},
   "outputs": [],
   "source": [
    "result = DeepFace.analyze(img1,actions=['age'])"
   ]
  },
  {
   "cell_type": "code",
   "execution_count": null,
   "metadata": {},
   "outputs": [],
   "source": [
    "result_emotion = DeepFace.analyze(img1,actions=['emotion'])"
   ]
  },
  {
   "cell_type": "code",
   "execution_count": null,
   "metadata": {},
   "outputs": [],
   "source": [
    "print(result)"
   ]
  },
  {
   "cell_type": "code",
   "execution_count": null,
   "metadata": {},
   "outputs": [],
   "source": [
    "print(result_emotion)"
   ]
  },
  {
   "cell_type": "code",
   "execution_count": null,
   "metadata": {},
   "outputs": [],
   "source": [
    "result_gender = DeepFace.analyze(img1,actions=['gender'])"
   ]
  },
  {
   "cell_type": "code",
   "execution_count": null,
   "metadata": {},
   "outputs": [],
   "source": [
    "print(result_gender)"
   ]
  },
  {
   "cell_type": "markdown",
   "metadata": {},
   "source": [
    "# Combined Models"
   ]
  },
  {
   "cell_type": "code",
   "execution_count": null,
   "metadata": {},
   "outputs": [],
   "source": [
    "import cv2\n",
    "from deepface import DeepFace\n",
    "import matplotlib.pyplot as plt\n",
    "\n",
    "# Load the image\n",
    "img_path = r\"E:\\FYP\\233.jpg\"\n",
    "img = cv2.imread(img_path)\n",
    "\n",
    "# Analyze the image for age, gender, and emotion\n",
    "results = DeepFace.analyze(img, actions=['age', 'gender', 'emotion'])\n",
    "\n",
    "# Detect faces in the image\n",
    "face_cascade = cv2.CascadeClassifier(cv2.data.haarcascades + 'haarcascade_frontalface_default.xml')\n",
    "gray_img = cv2.cvtColor(img, cv2.COLOR_BGR2GRAY)\n",
    "faces = face_cascade.detectMultiScale(gray_img, scaleFactor=1.1, minNeighbors=5)\n",
    "\n",
    "# Draw bounding boxes and annotate the image with results\n",
    "for i, (x, y, w, h) in enumerate(faces):\n",
    "    # Draw the bounding box\n",
    "    cv2.rectangle(img, (x, y), (x + w, y + h), (255, 0, 0), 2)\n",
    "    \n",
    "    # Get the results for the face\n",
    "    if i < len(results):\n",
    "        face_results = results[i]\n",
    "        age = face_results['age']\n",
    "        gender = face_results['dominant_gender']  # Correct extraction of gender\n",
    "        emotion = face_results['dominant_emotion']  # Correct extraction of dominant emotion\n",
    "\n",
    "        # Create the annotation text\n",
    "        age_text = f'Age: {age}'\n",
    "        gender_text = f'Gender: {gender}'\n",
    "        emotion_text = f'Emotion: {emotion}'\n",
    "        \n",
    "        # Put the text above the bounding box, stacking vertically\n",
    "        y_offset = y - 10\n",
    "        cv2.putText(img, age_text, (x, y_offset), cv2.FONT_HERSHEY_SIMPLEX, 0.5, (255, 0, 0), 2)\n",
    "        cv2.putText(img, gender_text, (x, y_offset - 20), cv2.FONT_HERSHEY_SIMPLEX, 0.5, (255, 0, 0), 2)\n",
    "        cv2.putText(img, emotion_text, (x, y_offset - 40), cv2.FONT_HERSHEY_SIMPLEX, 0.5, (255, 0, 0), 2)\n",
    "\n",
    "# Convert the image from BGR to RGB for displaying with matplotlib\n",
    "img_rgb = cv2.cvtColor(img, cv2.COLOR_BGR2RGB)\n",
    "\n",
    "# Display the image\n",
    "plt.figure(figsize=(10, 10))\n",
    "plt.imshow(img_rgb)\n",
    "plt.axis('off')\n",
    "plt.show()"
   ]
  },
  {
   "cell_type": "markdown",
   "metadata": {},
   "source": [
    "# Webcam"
   ]
  },
  {
   "cell_type": "code",
   "execution_count": null,
   "metadata": {},
   "outputs": [],
   "source": [
    "import cv2\n",
    "from deepface import DeepFace\n",
    "import matplotlib.pyplot as plt\n",
    "\n",
    "# Initialize webcam\n",
    "cap = cv2.VideoCapture(0)\n",
    "\n",
    "# Load the face detection model\n",
    "face_cascade = cv2.CascadeClassifier(cv2.data.haarcascades + 'haarcascade_frontalface_default.xml')\n",
    "\n",
    "while True:\n",
    "    # Capture frame-by-frame\n",
    "    ret, frame = cap.read()\n",
    "    if not ret:\n",
    "        break\n",
    "\n",
    "    # Convert the frame to grayscale for face detection\n",
    "    gray_frame = cv2.cvtColor(frame, cv2.COLOR_BGR2GRAY)\n",
    "    faces = face_cascade.detectMultiScale(gray_frame, scaleFactor=1.1, minNeighbors=5)\n",
    "\n",
    "    # Analyze the frame for age, gender, and emotion\n",
    "    results = DeepFace.analyze(frame, actions=['age', 'gender', 'emotion'], enforce_detection=False)\n",
    "\n",
    "    # Draw bounding boxes and annotate the frame with results\n",
    "    for i, (x, y, w, h) in enumerate(faces):\n",
    "        # Draw the bounding box\n",
    "        cv2.rectangle(frame, (x, y), (x + w, y + h), (255, 0, 0), 2)\n",
    "        \n",
    "        # Get the results for the face\n",
    "        if i < len(results):\n",
    "            face_results = results[i]\n",
    "            age = face_results['age']\n",
    "            gender = face_results['dominant_gender']\n",
    "            emotion = face_results['dominant_emotion']\n",
    "\n",
    "            # Create the annotation text\n",
    "            age_text = f'Age: {age}'\n",
    "            gender_text = f'Gender: {gender}'\n",
    "            emotion_text = f'Emotion: {emotion}'\n",
    "            \n",
    "            # Put the text above the bounding box, stacking vertically\n",
    "            y_offset = y - 10\n",
    "            cv2.putText(frame, age_text, (x, y_offset), cv2.FONT_HERSHEY_SIMPLEX, 0.5, (255, 0, 0), 2)\n",
    "            cv2.putText(frame, gender_text, (x, y_offset - 20), cv2.FONT_HERSHEY_SIMPLEX, 0.5, (255, 0, 0), 2)\n",
    "            cv2.putText(frame, emotion_text, (x, y_offset - 40), cv2.FONT_HERSHEY_SIMPLEX, 0.5, (255, 0, 0), 2)\n",
    "\n",
    "    # Display the frame with annotations\n",
    "    cv2.imshow('Webcam', frame)\n",
    "\n",
    "    # Break the loop on 'q' key press\n",
    "    if cv2.waitKey(1) & 0xFF == ord('q'):\n",
    "        break\n",
    "\n",
    "# Release the webcam and close windows\n",
    "cap.release()\n",
    "cv2.destroyAllWindows()"
   ]
  }
 ],
 "metadata": {
  "kernelspec": {
   "display_name": "Python 3",
   "language": "python",
   "name": "python3"
  },
  "language_info": {
   "codemirror_mode": {
    "name": "ipython",
    "version": 3
   },
   "file_extension": ".py",
   "mimetype": "text/x-python",
   "name": "python",
   "nbconvert_exporter": "python",
   "pygments_lexer": "ipython3",
   "version": "3.8.8"
  }
 },
 "nbformat": 4,
 "nbformat_minor": 2
}
